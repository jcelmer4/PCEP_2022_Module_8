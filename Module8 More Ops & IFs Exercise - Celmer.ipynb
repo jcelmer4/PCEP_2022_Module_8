{
 "cells": [
  {
   "cell_type": "markdown",
   "metadata": {},
   "source": [
    "### Exercise 1\n",
    "Ask for an exam score and store that number. If the number is greater than 100, then print out 'You cannot have an exam score higher than 100'. If the number doesn't exceeed 100 but is greater than or equal to 75, then print out 'You did great on your exam!'. Otherwise if they scored lower than 75, then print out 'You need to study harder'."
   ]
  },
  {
   "cell_type": "code",
   "execution_count": null,
   "metadata": {},
   "outputs": [],
   "source": [
    "#prompt user for exam score\n",
    "ex_score = int(input(\"Please provide your exam score: \"))"
   ]
  },
  {
   "cell_type": "code",
   "execution_count": null,
   "metadata": {},
   "outputs": [],
   "source": [
    "# set condition for if statement \n",
    "if ex_score > 100:\n",
    "    print(\"You cannot have an exam score higher than 100\")\n",
    "    \n",
    "elif ex_score >=75:\n",
    "    print(\"You did great on your exam!\")\n",
    "    \n",
    "else:\n",
    "    print(\"You need to study harder\")"
   ]
  },
  {
   "cell_type": "markdown",
   "metadata": {},
   "source": [
    "### Exercise 2\n",
    "Ask a user to enter two numbers and find their average. Then, print out the average and whether each number is below or above average. Determine if a function should be created or not.\n",
    "    "
   ]
  },
  {
   "cell_type": "code",
   "execution_count": null,
   "metadata": {},
   "outputs": [],
   "source": [
    "num1 = int(input(\"Enter a number: \"))\n",
    "num2 = int(input(\"Enter a second number: \"))\n",
    "avg = ((num1+num2)/2)"
   ]
  },
  {
   "cell_type": "code",
   "execution_count": null,
   "metadata": {},
   "outputs": [],
   "source": [
    "def num1_function(num1):\n",
    "    if num1 > avg:\n",
    "        print(f\"{num1} is above the average\")\n",
    "    elif num1 < avg:\n",
    "        print(f\"{num1} is below the average\")\n",
    "    else:\n",
    "        print(f\"{num1} is equal to the average\")"
   ]
  },
  {
   "cell_type": "code",
   "execution_count": null,
   "metadata": {},
   "outputs": [],
   "source": [
    "def num2_function(num2):\n",
    "    if num2 > avg:\n",
    "        print(f\"{num2} is above the average\")\n",
    "    elif num2 < avg:\n",
    "        print(f\"{num2} is below the average\")\n",
    "    else:\n",
    "        print(f\"{num2} is equal to the average\")"
   ]
  },
  {
   "cell_type": "code",
   "execution_count": null,
   "metadata": {},
   "outputs": [],
   "source": [
    "def aver_funtion(num1, num2):\n",
    "    \n",
    "    print(F\"Average = {avg}\")\n",
    "    num1_function(num1)\n",
    "    num2_function(num2)\n",
    "    return\n"
   ]
  },
  {
   "cell_type": "code",
   "execution_count": null,
   "metadata": {},
   "outputs": [],
   "source": [
    "aver_funtion(num1,num2)"
   ]
  },
  {
   "cell_type": "markdown",
   "metadata": {},
   "source": [
    "### Exercise 3\n",
    "Write a function to convert a test score to a grade where  \n",
    " - 90 - 100: A\n",
    " - 80 - 89:  B\n",
    " - 70 - 79:  C\n",
    " - 60 - 69:  D\n",
    " - < 60   :  F\n",
    " \n",
    "If a score is not between 0 and 100 then print out an error message. In the program, ask the user for a score and then call your function. "
   ]
  },
  {
   "cell_type": "code",
   "execution_count": 22,
   "metadata": {},
   "outputs": [
    {
     "name": "stdout",
     "output_type": "stream",
     "text": [
      "Enter exam score: -20\n"
     ]
    }
   ],
   "source": [
    "exam_score = int(input(\"Enter exam score: \"))"
   ]
  },
  {
   "cell_type": "code",
   "execution_count": 23,
   "metadata": {},
   "outputs": [],
   "source": [
    "def grade_convert(exam_score):\n",
    "    if exam_score >100 or exam_score < 0:\n",
    "        print(\"Invalid exam score entered. Please double check your exam score\")\n",
    "    elif exam_score >=90:\n",
    "        grade = \"A\"\n",
    "    elif exam_score >=80:\n",
    "        grade = \"B\"\n",
    "    elif exam_score >=70:\n",
    "        grade = \"C\"\n",
    "    elif exam_score >=60:\n",
    "        grade = \"D\"\n",
    "    else:\n",
    "        grade = \"F\"\n",
    "    return grade"
   ]
  },
  {
   "cell_type": "code",
   "execution_count": 24,
   "metadata": {},
   "outputs": [
    {
     "name": "stdout",
     "output_type": "stream",
     "text": [
      "Invalid exam score entered. Please double check your exam score\n",
      "Invalid exam score entered. Please double check your exam score\n"
     ]
    },
    {
     "ename": "UnboundLocalError",
     "evalue": "local variable 'grade' referenced before assignment",
     "output_type": "error",
     "traceback": [
      "\u001b[1;31m---------------------------------------------------------------------------\u001b[0m",
      "\u001b[1;31mUnboundLocalError\u001b[0m                         Traceback (most recent call last)",
      "Input \u001b[1;32mIn [24]\u001b[0m, in \u001b[0;36m<cell line: 1>\u001b[1;34m()\u001b[0m\n\u001b[1;32m----> 1\u001b[0m \u001b[43mgrade_convert\u001b[49m\u001b[43m(\u001b[49m\u001b[43mexam_score\u001b[49m\u001b[43m)\u001b[49m\n",
      "Input \u001b[1;32mIn [23]\u001b[0m, in \u001b[0;36mgrade_convert\u001b[1;34m(exam_score)\u001b[0m\n\u001b[0;32m     12\u001b[0m \u001b[38;5;28;01melse\u001b[39;00m:\n\u001b[0;32m     13\u001b[0m     grade \u001b[38;5;241m=\u001b[39m \u001b[38;5;124m\"\u001b[39m\u001b[38;5;124mF\u001b[39m\u001b[38;5;124m\"\u001b[39m\n\u001b[1;32m---> 14\u001b[0m \u001b[38;5;28;01mreturn\u001b[39;00m \u001b[43mgrade\u001b[49m\n",
      "\u001b[1;31mUnboundLocalError\u001b[0m: local variable 'grade' referenced before assignment"
     ]
    },
    {
     "ename": "UnboundLocalError",
     "evalue": "local variable 'grade' referenced before assignment",
     "output_type": "error",
     "traceback": [
      "\u001b[1;31m---------------------------------------------------------------------------\u001b[0m",
      "\u001b[1;31mUnboundLocalError\u001b[0m                         Traceback (most recent call last)",
      "Input \u001b[1;32mIn [24]\u001b[0m, in \u001b[0;36m<cell line: 1>\u001b[1;34m()\u001b[0m\n\u001b[1;32m----> 1\u001b[0m \u001b[43mgrade_convert\u001b[49m\u001b[43m(\u001b[49m\u001b[43mexam_score\u001b[49m\u001b[43m)\u001b[49m\n",
      "Input \u001b[1;32mIn [23]\u001b[0m, in \u001b[0;36mgrade_convert\u001b[1;34m(exam_score)\u001b[0m\n\u001b[0;32m     12\u001b[0m \u001b[38;5;28;01melse\u001b[39;00m:\n\u001b[0;32m     13\u001b[0m     grade \u001b[38;5;241m=\u001b[39m \u001b[38;5;124m\"\u001b[39m\u001b[38;5;124mF\u001b[39m\u001b[38;5;124m\"\u001b[39m\n\u001b[1;32m---> 14\u001b[0m \u001b[38;5;28;01mreturn\u001b[39;00m \u001b[43mgrade\u001b[49m\n",
      "\u001b[1;31mUnboundLocalError\u001b[0m: local variable 'grade' referenced before assignment"
     ]
    }
   ],
   "source": [
    "grade_convert(exam_score)"
   ]
  },
  {
   "cell_type": "markdown",
   "metadata": {},
   "source": [
    "### Exercise 4\n",
    "Convert following decimal number to a binary number by hand:\n",
    "\n",
    "    61\n",
    "    15\n",
    "    71\n",
    "    "
   ]
  },
  {
   "cell_type": "code",
   "execution_count": null,
   "metadata": {},
   "outputs": [],
   "source": [
    "# decemine to binary number for 61\n",
    "61//2\n",
    "30//2\n",
    "15//2\n",
    "7//2\n",
    "3//2\n",
    "1//2\n",
    "61%2\n",
    "30%2\n",
    "15%2\n",
    "7%2\n",
    "3%2\n",
    "1%2\n",
    "#111101"
   ]
  },
  {
   "cell_type": "code",
   "execution_count": null,
   "metadata": {},
   "outputs": [],
   "source": [
    "#decimal number to binary for 15\n",
    "15//2\n",
    "7//2\n",
    "3//2\n",
    "1//2\n",
    "15%2\n",
    "7%2\n",
    "3%2\n",
    "1%2\n",
    "#1111"
   ]
  },
  {
   "cell_type": "code",
   "execution_count": null,
   "metadata": {},
   "outputs": [],
   "source": [
    "#decimal number to binary for 71\n",
    "71//2\n",
    "35//2\n",
    "17//2\n",
    "8//2\n",
    "4//2\n",
    "2//2\n",
    "1//2\n",
    "71%2\n",
    "35%2\n",
    "17%2\n",
    "8%2\n",
    "4%2\n",
    "2%2\n",
    "1%2\n",
    "#100111"
   ]
  },
  {
   "cell_type": "markdown",
   "metadata": {},
   "source": [
    "### Exercise 5\n",
    "When a = 61 and b = 15, what is the result of following bitwise opertion? Use inline comments to show your result in a binary number. Find your answer by hand.\n",
    "\n",
    "    a & b\n",
    "    a | b\n",
    "    a ^ b\n",
    "    a >> 2\n",
    "    "
   ]
  },
  {
   "cell_type": "code",
   "execution_count": null,
   "metadata": {},
   "outputs": [],
   "source": [
    "#binary of a (61) is 0011 1101\n",
    "#binary of b (15) is 0000 1111\n",
    "\n",
    "a & b # 0000 1101"
   ]
  },
  {
   "cell_type": "code",
   "execution_count": null,
   "metadata": {},
   "outputs": [],
   "source": [
    "#binary of a (61) is 0011 1101\n",
    "#binary of b (15) is 0000 1111\n",
    "\n",
    "a | b # 0011 1111\n"
   ]
  },
  {
   "cell_type": "code",
   "execution_count": null,
   "metadata": {},
   "outputs": [],
   "source": [
    "#binary of a (61) is 0011 1101\n",
    "#binary of b (15) is 0000 1111\n",
    "\n",
    "a ^ b # 0011 0010"
   ]
  },
  {
   "cell_type": "code",
   "execution_count": null,
   "metadata": {},
   "outputs": [],
   "source": [
    "#binary of a (61) is 0011 1101\n",
    "#binary of b (15) is 0000 1111\n",
    "\n",
    "a >> 2 # 1000 1100"
   ]
  }
 ],
 "metadata": {
  "kernelspec": {
   "display_name": "Python 3 (ipykernel)",
   "language": "python",
   "name": "python3"
  },
  "language_info": {
   "codemirror_mode": {
    "name": "ipython",
    "version": 3
   },
   "file_extension": ".py",
   "mimetype": "text/x-python",
   "name": "python",
   "nbconvert_exporter": "python",
   "pygments_lexer": "ipython3",
   "version": "3.9.12"
  }
 },
 "nbformat": 4,
 "nbformat_minor": 4
}
